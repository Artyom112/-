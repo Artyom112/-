{
 "cells": [
  {
   "cell_type": "code",
   "execution_count": 2,
   "metadata": {},
   "outputs": [],
   "source": [
    "import pandas as pd\n",
    "import numpy as np\n",
    "\n",
    "address_clast = pd.read_csv('/Users/artyomkholodkov/Downloads/test/address_clust.csv')\n",
    "address_stats = pd.read_csv('/Users/artyomkholodkov/Downloads/test/address_stats.csv')"
   ]
  },
  {
   "cell_type": "code",
   "execution_count": 41,
   "metadata": {},
   "outputs": [
    {
     "name": "stdout",
     "output_type": "stream",
     "text": [
      "<class 'pandas.core.frame.DataFrame'>\n",
      "RangeIndex: 6996 entries, 0 to 6995\n",
      "Data columns (total 2 columns):\n",
      " #   Column      Non-Null Count  Dtype\n",
      "---  ------      --------------  -----\n",
      " 0   address_id  6996 non-null   int64\n",
      " 1   cluster_id  6996 non-null   int64\n",
      "dtypes: int64(2)\n",
      "memory usage: 109.4 KB\n"
     ]
    }
   ],
   "source": [
    "address_clast.info()"
   ]
  },
  {
   "cell_type": "code",
   "execution_count": 42,
   "metadata": {},
   "outputs": [
    {
     "name": "stdout",
     "output_type": "stream",
     "text": [
      "<class 'pandas.core.frame.DataFrame'>\n",
      "RangeIndex: 76724 entries, 0 to 76723\n",
      "Data columns (total 6 columns):\n",
      " #   Column          Non-Null Count  Dtype  \n",
      "---  ------          --------------  -----  \n",
      " 0   id              76724 non-null  int64  \n",
      " 1   address_id      76724 non-null  int64  \n",
      " 2   transaction_id  76724 non-null  int64  \n",
      " 3   received        76724 non-null  float64\n",
      " 4   sent            76724 non-null  float64\n",
      " 5   cluster         76724 non-null  int64  \n",
      "dtypes: float64(2), int64(4)\n",
      "memory usage: 3.5 MB\n"
     ]
    }
   ],
   "source": [
    "address_stats.info()"
   ]
  },
  {
   "cell_type": "markdown",
   "metadata": {},
   "source": [
    "Фунцкия, соотносящая address_id с кластером"
   ]
  },
  {
   "cell_type": "code",
   "execution_count": 10,
   "metadata": {},
   "outputs": [],
   "source": [
    "def raw_func(raw):\n",
    "    try:\n",
    "        cluster = address_clast.loc[address_clast['address_id'] == raw['address_id']]['cluster_id'].values[0]\n",
    "        return cluster\n",
    "    except IndexError:\n",
    "        return 0"
   ]
  },
  {
   "cell_type": "code",
   "execution_count": 11,
   "metadata": {},
   "outputs": [],
   "source": [
    "address_stats['cluster'] = address_stats.apply(raw_func, axis=1)"
   ]
  },
  {
   "cell_type": "code",
   "execution_count": 12,
   "metadata": {},
   "outputs": [
    {
     "data": {
      "text/html": [
       "<div>\n",
       "<style scoped>\n",
       "    .dataframe tbody tr th:only-of-type {\n",
       "        vertical-align: middle;\n",
       "    }\n",
       "\n",
       "    .dataframe tbody tr th {\n",
       "        vertical-align: top;\n",
       "    }\n",
       "\n",
       "    .dataframe thead th {\n",
       "        text-align: right;\n",
       "    }\n",
       "</style>\n",
       "<table border=\"1\" class=\"dataframe\">\n",
       "  <thead>\n",
       "    <tr style=\"text-align: right;\">\n",
       "      <th></th>\n",
       "      <th>id</th>\n",
       "      <th>address_id</th>\n",
       "      <th>transaction_id</th>\n",
       "      <th>received</th>\n",
       "      <th>sent</th>\n",
       "      <th>cluster</th>\n",
       "    </tr>\n",
       "  </thead>\n",
       "  <tbody>\n",
       "    <tr>\n",
       "      <th>0</th>\n",
       "      <td>87134765</td>\n",
       "      <td>46402336</td>\n",
       "      <td>19162323</td>\n",
       "      <td>0.0</td>\n",
       "      <td>1800000.0</td>\n",
       "      <td>0</td>\n",
       "    </tr>\n",
       "    <tr>\n",
       "      <th>1</th>\n",
       "      <td>87134766</td>\n",
       "      <td>45919235</td>\n",
       "      <td>19162323</td>\n",
       "      <td>0.0</td>\n",
       "      <td>1071052.0</td>\n",
       "      <td>0</td>\n",
       "    </tr>\n",
       "    <tr>\n",
       "      <th>2</th>\n",
       "      <td>87134767</td>\n",
       "      <td>46529090</td>\n",
       "      <td>19162323</td>\n",
       "      <td>1000000.0</td>\n",
       "      <td>0.0</td>\n",
       "      <td>1</td>\n",
       "    </tr>\n",
       "    <tr>\n",
       "      <th>3</th>\n",
       "      <td>87134768</td>\n",
       "      <td>46529091</td>\n",
       "      <td>19162323</td>\n",
       "      <td>1821052.0</td>\n",
       "      <td>0.0</td>\n",
       "      <td>0</td>\n",
       "    </tr>\n",
       "    <tr>\n",
       "      <th>4</th>\n",
       "      <td>87154706</td>\n",
       "      <td>46529090</td>\n",
       "      <td>19166856</td>\n",
       "      <td>0.0</td>\n",
       "      <td>1000000.0</td>\n",
       "      <td>1</td>\n",
       "    </tr>\n",
       "    <tr>\n",
       "      <th>...</th>\n",
       "      <td>...</td>\n",
       "      <td>...</td>\n",
       "      <td>...</td>\n",
       "      <td>...</td>\n",
       "      <td>...</td>\n",
       "      <td>...</td>\n",
       "    </tr>\n",
       "    <tr>\n",
       "      <th>76719</th>\n",
       "      <td>139448796</td>\n",
       "      <td>60563257</td>\n",
       "      <td>30053430</td>\n",
       "      <td>4597692.0</td>\n",
       "      <td>0.0</td>\n",
       "      <td>0</td>\n",
       "    </tr>\n",
       "    <tr>\n",
       "      <th>76720</th>\n",
       "      <td>139449242</td>\n",
       "      <td>60563257</td>\n",
       "      <td>30053558</td>\n",
       "      <td>0.0</td>\n",
       "      <td>4597692.0</td>\n",
       "      <td>0</td>\n",
       "    </tr>\n",
       "    <tr>\n",
       "      <th>76721</th>\n",
       "      <td>139449243</td>\n",
       "      <td>60563257</td>\n",
       "      <td>30053558</td>\n",
       "      <td>0.0</td>\n",
       "      <td>16270.0</td>\n",
       "      <td>0</td>\n",
       "    </tr>\n",
       "    <tr>\n",
       "      <th>76722</th>\n",
       "      <td>139449244</td>\n",
       "      <td>49604329</td>\n",
       "      <td>30053558</td>\n",
       "      <td>2100000.0</td>\n",
       "      <td>0.0</td>\n",
       "      <td>1</td>\n",
       "    </tr>\n",
       "    <tr>\n",
       "      <th>76723</th>\n",
       "      <td>139449245</td>\n",
       "      <td>60563257</td>\n",
       "      <td>30053558</td>\n",
       "      <td>2503962.0</td>\n",
       "      <td>0.0</td>\n",
       "      <td>0</td>\n",
       "    </tr>\n",
       "  </tbody>\n",
       "</table>\n",
       "<p>76724 rows × 6 columns</p>\n",
       "</div>"
      ],
      "text/plain": [
       "              id  address_id  transaction_id   received       sent  cluster\n",
       "0       87134765    46402336        19162323        0.0  1800000.0        0\n",
       "1       87134766    45919235        19162323        0.0  1071052.0        0\n",
       "2       87134767    46529090        19162323  1000000.0        0.0        1\n",
       "3       87134768    46529091        19162323  1821052.0        0.0        0\n",
       "4       87154706    46529090        19166856        0.0  1000000.0        1\n",
       "...          ...         ...             ...        ...        ...      ...\n",
       "76719  139448796    60563257        30053430  4597692.0        0.0        0\n",
       "76720  139449242    60563257        30053558        0.0  4597692.0        0\n",
       "76721  139449243    60563257        30053558        0.0    16270.0        0\n",
       "76722  139449244    49604329        30053558  2100000.0        0.0        1\n",
       "76723  139449245    60563257        30053558  2503962.0        0.0        0\n",
       "\n",
       "[76724 rows x 6 columns]"
      ]
     },
     "execution_count": 12,
     "metadata": {},
     "output_type": "execute_result"
    }
   ],
   "source": [
    "address_stats"
   ]
  },
  {
   "cell_type": "markdown",
   "metadata": {},
   "source": [
    "Найдем количество уникальных transaction_id в датасете"
   ]
  },
  {
   "cell_type": "code",
   "execution_count": 29,
   "metadata": {},
   "outputs": [],
   "source": [
    "unique_transaction_ids = np.unique(address_stats['transaction_id'].values)"
   ]
  },
  {
   "cell_type": "markdown",
   "metadata": {},
   "source": [
    "Функция, вычисляющая cash flow. Имеет в виду, что отправка производистя из одного кластера."
   ]
  },
  {
   "cell_type": "code",
   "execution_count": 30,
   "metadata": {},
   "outputs": [],
   "source": [
    "def finf_flow(from_to: tuple):\n",
    "    s = 0\n",
    "    \n",
    "    for unq_id in unique_transaction_ids:\n",
    "        frame = address_stats[address_stats['transaction_id'] == unq_id]\n",
    "        if from_to[0] in frame[frame['sent'] > 0]['cluster'].values and from_to[1] in frame[frame['received'] > 0]['cluster'].values:\n",
    "            s += frame[frame['cluster'] == from_to[1]]['received'].sum() / 10**8\n",
    "            \n",
    "    print('кластер {} отправил {} биткойнов в кластер {}'.format(from_to[0], s, from_to[1]))"
   ]
  },
  {
   "cell_type": "markdown",
   "metadata": {},
   "source": [
    "1"
   ]
  },
  {
   "cell_type": "markdown",
   "metadata": {},
   "source": [
    "Находим cash flows"
   ]
  },
  {
   "cell_type": "code",
   "execution_count": 31,
   "metadata": {},
   "outputs": [
    {
     "name": "stdout",
     "output_type": "stream",
     "text": [
      "кластер 1 отправил 129.24324000000055 биткойнов в кластер 2\n"
     ]
    }
   ],
   "source": [
    "finf_flow(from_to = (1, 2))"
   ]
  },
  {
   "cell_type": "code",
   "execution_count": 32,
   "metadata": {},
   "outputs": [
    {
     "name": "stdout",
     "output_type": "stream",
     "text": [
      "кластер 2 отправил 135.82000000000372 биткойнов в кластер 1\n"
     ]
    }
   ],
   "source": [
    "finf_flow(from_to = (2, 1))"
   ]
  },
  {
   "cell_type": "markdown",
   "metadata": {},
   "source": [
    "2"
   ]
  },
  {
   "cell_type": "code",
   "execution_count": 33,
   "metadata": {},
   "outputs": [
    {
     "name": "stdout",
     "output_type": "stream",
     "text": [
      "кластер 1 отправил 300.55392887999795 биткойнов в кластер 0\n"
     ]
    }
   ],
   "source": [
    "finf_flow(from_to = (1, 0))"
   ]
  },
  {
   "cell_type": "code",
   "execution_count": 34,
   "metadata": {},
   "outputs": [
    {
     "name": "stdout",
     "output_type": "stream",
     "text": [
      "кластер 0 отправил 297.11968387999565 биткойнов в кластер 1\n"
     ]
    }
   ],
   "source": [
    "finf_flow(from_to = (0, 1))"
   ]
  },
  {
   "cell_type": "markdown",
   "metadata": {},
   "source": [
    "3"
   ]
  },
  {
   "cell_type": "code",
   "execution_count": 35,
   "metadata": {},
   "outputs": [
    {
     "name": "stdout",
     "output_type": "stream",
     "text": [
      "кластер 2 отправил 4.869840000000001 биткойнов в кластер 0\n"
     ]
    }
   ],
   "source": [
    "finf_flow(from_to = (2, 0))"
   ]
  },
  {
   "cell_type": "code",
   "execution_count": 36,
   "metadata": {},
   "outputs": [
    {
     "name": "stdout",
     "output_type": "stream",
     "text": [
      "кластер 0 отправил 9.74013860999976 биткойнов в кластер 2\n"
     ]
    }
   ],
   "source": [
    "finf_flow(from_to = (0, 2))"
   ]
  },
  {
   "cell_type": "markdown",
   "metadata": {},
   "source": [
    "4"
   ]
  },
  {
   "cell_type": "markdown",
   "metadata": {},
   "source": [
    "Функция, вычисляющая fee по кластерам"
   ]
  },
  {
   "cell_type": "code",
   "execution_count": 37,
   "metadata": {},
   "outputs": [],
   "source": [
    "def find_fee(cluster: int):\n",
    "    s = 0\n",
    "    \n",
    "    for unq_id in unique_transaction_ids:\n",
    "        frame = address_stats[address_stats['transaction_id'] == unq_id]\n",
    "        if cluster in frame[frame['sent'] > 0]['cluster'].values:\n",
    "            s += (frame['sent'].sum() - frame['received'].sum()) / 10**8\n",
    "            \n",
    "    print('кластер {} потратил {} биткойнов на fee'.format(cluster, s))"
   ]
  },
  {
   "cell_type": "code",
   "execution_count": 38,
   "metadata": {},
   "outputs": [
    {
     "name": "stdout",
     "output_type": "stream",
     "text": [
      "кластер 1 потратил 0.6671439999999648 биткойнов на fee\n"
     ]
    }
   ],
   "source": [
    "find_fee(cluster = 1)"
   ]
  },
  {
   "cell_type": "code",
   "execution_count": 39,
   "metadata": {},
   "outputs": [
    {
     "name": "stdout",
     "output_type": "stream",
     "text": [
      "кластер 2 потратил 0.7456672199999584 биткойнов на fee\n"
     ]
    }
   ],
   "source": [
    "find_fee(cluster = 2)"
   ]
  },
  {
   "cell_type": "code",
   "execution_count": null,
   "metadata": {},
   "outputs": [],
   "source": []
  }
 ],
 "metadata": {
  "kernelspec": {
   "display_name": "Python 3",
   "language": "python",
   "name": "python3"
  },
  "language_info": {
   "codemirror_mode": {
    "name": "ipython",
    "version": 3
   },
   "file_extension": ".py",
   "mimetype": "text/x-python",
   "name": "python",
   "nbconvert_exporter": "python",
   "pygments_lexer": "ipython3",
   "version": "3.7.9"
  }
 },
 "nbformat": 4,
 "nbformat_minor": 4
}
